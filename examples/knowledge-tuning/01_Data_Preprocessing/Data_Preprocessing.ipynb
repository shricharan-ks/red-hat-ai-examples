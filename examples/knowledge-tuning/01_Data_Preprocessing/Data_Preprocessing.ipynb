{
 "cells": [
  {
   "cell_type": "markdown",
   "id": "4535f5ad",
   "metadata": {},
   "source": [
    "# Data Preprocessing\n",
    "\n",
    "This notebook covers the required preprocessing steps for preparing the `seed.jsonl` dataset which is ready for Synthetic Data Generation (SDG). \n",
    "\n",
    "1. Configure the paths\n",
    "2. Loading the files into memory\n",
    "3. Document Conversion\n",
    "4. Chunking\n",
    "5. Saving the processed data"
   ]
  },
  {
   "cell_type": "code",
   "execution_count": 1,
   "id": "4e7981d4",
   "metadata": {},
   "outputs": [],
   "source": [
    "from pathlib import Path\n",
    "import json"
   ]
  },
  {
   "cell_type": "code",
   "execution_count": 2,
   "id": "05b27fc4",
   "metadata": {},
   "outputs": [],
   "source": [
    "WORKSPACE = Path.cwd().parent # Path to the workspace directory\n",
    "\n",
    "SOURCE_DOCUMENT_DIR= WORKSPACE / \"source_documents\"\n",
    "OUTPUT_DIR= WORKSPACE / \"output\" / \"step_01\"\n",
    "\n",
    "\n",
    "\n",
    "OUTPUT_DIR.mkdir(parents=True, exist_ok=True)  # Create output directory if it doesn't exist"
   ]
  },
  {
   "cell_type": "code",
   "execution_count": 3,
   "id": "e411e44c",
   "metadata": {},
   "outputs": [
    {
     "name": "stdout",
     "output_type": "stream",
     "text": [
      "Total PDF files found: 2 \n",
      "\n",
      "Available Files:\n",
      "\t2022-nfl-rulebook.pdf\n",
      "\t2023-nfl-rulebook.pdf\n"
     ]
    }
   ],
   "source": [
    "available_files = SOURCE_DOCUMENT_DIR.glob(\"**/*.pdf\")\n",
    "available_files = list(available_files)\n",
    "\n",
    "print(f\"Total PDF files found: {len(available_files)} \\n\")\n",
    "print(\"Available Files:\")\n",
    "\n",
    "for file in available_files:\n",
    "    print(f\"\\t{file.stem}.pdf\")"
   ]
  },
  {
   "cell_type": "markdown",
   "id": "975c02fd",
   "metadata": {},
   "source": [
    "## Document Conversion"
   ]
  },
  {
   "cell_type": "markdown",
   "id": "82694f1f",
   "metadata": {},
   "source": [
    "The source documents are in pdf format and we will be using `docling` to read and convert them into docling output format.\n",
    "\n",
    "configuring docling pipeline"
   ]
  },
  {
   "cell_type": "code",
   "execution_count": 4,
   "id": "31ee7c70",
   "metadata": {},
   "outputs": [
    {
     "name": "stderr",
     "output_type": "stream",
     "text": [
      "/Users/scharan/projects/red-hat-ai-examples/examples/knowledge-tuning/01_Data_Preprocessing/.venv/lib/python3.12/site-packages/tqdm/auto.py:21: TqdmWarning: IProgress not found. Please update jupyter and ipywidgets. See https://ipywidgets.readthedocs.io/en/stable/user_install.html\n",
      "  from .autonotebook import tqdm as notebook_tqdm\n"
     ]
    }
   ],
   "source": [
    "from docling.datamodel.accelerator_options import AcceleratorOptions, AcceleratorDevice\n",
    "from docling.document_converter import DocumentConverter, PdfFormatOption\n",
    "from docling.datamodel.base_models import InputFormat\n",
    "from docling.datamodel.pipeline_options import EasyOcrOptions, PdfPipelineOptions, VlmPipelineOptions, smoldocling_vlm_conversion_options\n",
    "\n",
    "from docling.pipeline.vlm_pipeline import VlmPipeline\n",
    "from docling.backend.docling_parse_v4_backend import DoclingParseV4DocumentBackend\n",
    "\n",
    "pipeline_options = PdfPipelineOptions()\n",
    "doc_converter = DocumentConverter(\n",
    "    format_options={\n",
    "        InputFormat.PDF: PdfFormatOption(\n",
    "            pipeline_options=pipeline_options\n",
    "        )\n",
    "    }\n",
    ")\n"
   ]
  },
  {
   "cell_type": "markdown",
   "id": "e8a33fb2",
   "metadata": {},
   "source": [
    "Convert the document to docling format"
   ]
  },
  {
   "cell_type": "code",
   "execution_count": 5,
   "id": "960baf76",
   "metadata": {},
   "outputs": [
    {
     "name": "stderr",
     "output_type": "stream",
     "text": [
      "2025-09-19 11:45:36,666 - INFO - detected formats: [<InputFormat.PDF: 'pdf'>]\n",
      "2025-09-19 11:45:36,697 - INFO - Going to convert document batch...\n",
      "2025-09-19 11:45:36,698 - INFO - Initializing pipeline for StandardPdfPipeline with options hash e647edf348883bed75367b22fbe60347\n",
      "2025-09-19 11:45:36,705 - INFO - Loading plugin 'docling_defaults'\n",
      "2025-09-19 11:45:36,706 - INFO - Registered picture descriptions: ['vlm', 'api']\n",
      "2025-09-19 11:45:36,713 - INFO - Loading plugin 'docling_defaults'\n",
      "2025-09-19 11:45:36,715 - INFO - Registered ocr engines: ['easyocr', 'ocrmac', 'rapidocr', 'tesserocr', 'tesseract']\n",
      "2025-09-19 11:45:36,910 - INFO - Accelerator device: 'mps'\n",
      "2025-09-19 11:45:40,102 - INFO - Accelerator device: 'mps'\n",
      "2025-09-19 11:45:42,062 - INFO - Accelerator device: 'mps'\n",
      "2025-09-19 11:45:42,693 - INFO - Processing document 2022-nfl-rulebook.pdf\n",
      "2025-09-19 11:45:47,522 - INFO - Finished converting document 2022-nfl-rulebook.pdf in 10.86 sec.\n",
      "2025-09-19 11:45:47,533 - INFO - detected formats: [<InputFormat.PDF: 'pdf'>]\n",
      "2025-09-19 11:45:47,538 - INFO - Going to convert document batch...\n",
      "2025-09-19 11:45:47,539 - INFO - Processing document 2023-nfl-rulebook.pdf\n",
      "2025-09-19 11:45:52,543 - INFO - Finished converting document 2023-nfl-rulebook.pdf in 5.01 sec.\n"
     ]
    }
   ],
   "source": [
    "confidence_report = {}\n",
    "for file in available_files:\n",
    "\n",
    "    conv_result = doc_converter.convert(file)\n",
    "\n",
    "    document = conv_result.document\n",
    "    confidence_report[file.stem] = conv_result.confidence\n",
    "\n",
    "    document_dict = document.export_to_dict()\n",
    "\n",
    "    (OUTPUT_DIR / \"docling_output\").mkdir(parents=True, exist_ok=True)\n",
    "    output_file = OUTPUT_DIR / \"docling_output\" /  f\"{file.stem}.json\"\n",
    "    with open(output_file, \"w\") as f:\n",
    "        json.dump(document_dict, f, indent=4)\n",
    "\n"
   ]
  },
  {
   "cell_type": "code",
   "execution_count": 6,
   "id": "318f18a2",
   "metadata": {},
   "outputs": [
    {
     "name": "stdout",
     "output_type": "stream",
     "text": [
      "Conversion confidence for 2022-nfl-rulebook:\n",
      "Average confidence: \u001b[1mEXCELLENT\u001b[0m (score 0.917)\n",
      "Pages that scored lower than average: 1, 2\n",
      "\n",
      "Conversion confidence for 2023-nfl-rulebook:\n",
      "Average confidence: \u001b[1mEXCELLENT\u001b[0m (score 0.938)\n",
      "Pages that scored lower than average: 1, 2, 6\n",
      "\n"
     ]
    }
   ],
   "source": [
    "for file, confidence_report in confidence_report.items():\n",
    "    print(f\"Conversion confidence for {file}:\")\n",
    "    \n",
    "    print(f\"Average confidence: \\x1b[1m{confidence_report.mean_grade.name}\\033[0m (score {confidence_report.mean_score:.3f})\")\n",
    "    \n",
    "    low_score_pages = []\n",
    "    for page in confidence_report.pages:\n",
    "        page_confidence_report = confidence_report.pages[page]\n",
    "        if page_confidence_report.mean_score < confidence_report.mean_score:\n",
    "            low_score_pages.append(page)\n",
    "\n",
    "    print(f\"Pages that scored lower than average: {', '.join(str(x + 1) for x in low_score_pages)}\")\n",
    "    \n",
    "    print()"
   ]
  },
  {
   "cell_type": "markdown",
   "id": "5a3178dc",
   "metadata": {},
   "source": [
    "## Chunking"
   ]
  },
  {
   "cell_type": "markdown",
   "id": "008c0ac9",
   "metadata": {},
   "source": [
    "Chunk the document using docling"
   ]
  },
  {
   "cell_type": "code",
   "execution_count": 7,
   "id": "6a0b01b1",
   "metadata": {},
   "outputs": [],
   "source": [
    "from docling.chunking import HybridChunker"
   ]
  },
  {
   "cell_type": "code",
   "execution_count": 8,
   "id": "4e1404e7",
   "metadata": {},
   "outputs": [],
   "source": [
    "chunker = HybridChunker()"
   ]
  },
  {
   "cell_type": "code",
   "execution_count": 9,
   "id": "ec1add96",
   "metadata": {},
   "outputs": [
    {
     "name": "stderr",
     "output_type": "stream",
     "text": [
      "2025-09-19 11:45:53,035 - INFO - detected formats: [<InputFormat.JSON_DOCLING: 'json_docling'>]\n",
      "2025-09-19 11:45:53,042 - INFO - Going to convert document batch...\n",
      "2025-09-19 11:45:53,043 - INFO - Initializing pipeline for SimplePipeline with options hash 995a146ad601044538e6a923bea22f4e\n",
      "2025-09-19 11:45:53,043 - INFO - Processing document 2023-nfl-rulebook.json\n",
      "2025-09-19 11:45:53,044 - INFO - Finished converting document 2023-nfl-rulebook.json in 0.01 sec.\n",
      "2025-09-19 11:45:53,119 - INFO - detected formats: [<InputFormat.JSON_DOCLING: 'json_docling'>]\n",
      "2025-09-19 11:45:53,123 - INFO - Going to convert document batch...\n",
      "2025-09-19 11:45:53,124 - INFO - Processing document 2022-nfl-rulebook.json\n",
      "2025-09-19 11:45:53,124 - INFO - Finished converting document 2022-nfl-rulebook.json in 0.01 sec.\n"
     ]
    },
    {
     "name": "stdout",
     "output_type": "stream",
     "text": [
      "Total chunks created for 2023-nfl-rulebook: 25\n",
      "Total chunks created for 2022-nfl-rulebook: 22\n",
      "Path of chunks JSON is: /Users/scharan/projects/red-hat-ai-examples/examples/knowledge-tuning/output/step_01/chunks.jsonl\n"
     ]
    }
   ],
   "source": [
    "all_chunks = []\n",
    "\n",
    "json_files = (OUTPUT_DIR / \"docling_output\").glob(\"*.json\")\n",
    "\n",
    "convertor = DocumentConverter()\n",
    "\n",
    "for file in json_files:\n",
    "    conv_result = convertor.convert(file)\n",
    "\n",
    "    chunks = chunker.chunk(conv_result.document)\n",
    "    chunks = list(chunks)\n",
    "    print(f\"Total chunks created for {file.stem}: {len(chunks)}\")\n",
    "\n",
    "    for chunk in chunks:\n",
    "        all_chunks.append({\n",
    "            \"chunk\":chunker.contextualize(chunk),\n",
    "            \"file\": file.stem,\n",
    "            \"metadata\":chunk.meta.export_json_dict()\n",
    "        })\n",
    "\n",
    "chunks_file_path = OUTPUT_DIR / \"chunks.jsonl\"\n",
    "with open(chunks_file_path, \"w\", encoding=\"utf-8\") as file:\n",
    "    for chunk in all_chunks:\n",
    "        json.dump(chunk, file)\n",
    "        file.write(\"\\n\")\n",
    "    print(f\"Path of chunks JSON is: {Path(chunks_file_path).resolve()}\")\n"
   ]
  },
  {
   "cell_type": "markdown",
   "id": "295bfb8d",
   "metadata": {},
   "source": [
    "View random chunks"
   ]
  },
  {
   "cell_type": "code",
   "execution_count": 10,
   "id": "19c4510c",
   "metadata": {},
   "outputs": [
    {
     "name": "stdout",
     "output_type": "stream",
     "text": [
      "== Randomly selected chunk 1: ==========\n",
      "\n",
      "A.R. 15.262 Double Challenge\n",
      "Second-and-10 on B35. With 12:00 remaining in the fourth quarter, QBA1 rolls out and throws a pass to A2 at the back of the end zone that is ruled incomplete. Team A challenges that the pass was complete, but replays show that A2 only got one foot down inbounds and the call on the field is upheld. While the Referee is making his announcement, a new replay comes up that shows the QB stepping on the sideline at the B40 before releasing the pass. Team B challenges the play.\n",
      "Ruling: Reviewable. Both teams can challenge the same play. A's ball third-and-15 on the B40, reset the clock to the time when the QB stepped out of bounds, and start on the snap. A team cannot challenge the same play twice. It is important that all reviewable aspects of a play are confirmed by replay regardless of what is being challenged. Team A is charged with a challenge and a timeout.\n",
      "\n",
      "\n",
      "== Randomly selected chunk 2: ==========\n",
      "\n",
      "A.R. 15.263 Next legal snap\n",
      "First-and-10 on A20. In the third quarter, A2 catches a pass at the A45. Before the next snap, Tackle A5 false starts. Replays show that the ball hit the ground before A2 caught it.\n",
      "Ruling: Reviewable. Play can be reviewed up until the next legal snap. Incomplete pass, A's ball second-and 10 on A20, reset the clock to the time the ball hit the ground, and the penalty for false start is ignored. Only Team B can challenge the ruling in this situation since it did not commit the foul that prevented the next snap.\n",
      "\n",
      "\n",
      "== Randomly selected chunk 3: ==========\n",
      "\n",
      "PREFACE\n",
      "This edition of the Official Playing Rules of the  National Football League  contains all current rules governing the playing of professional football that are in effect for the 2022 NFL season. Member clubs of the League may amend the rules from time to time, pursuant to the applicable voting procedures of the NFL Constitution and Bylaws.\n",
      "Any intra-League dispute or call for interpretation in connection with these rules will be decided by the Commissioner of the League, whose ruling will be final.\n",
      "Because inter-conference games are played throughout the preseason, regular season, and postseason in  the  NFL, all  rules contained in  this  book apply uniformly to both the American and National Football Conferences.\n",
      "Where the word 'illegal' appears in this rule book, it is an institutional term of art pertaining strictly to actions that violate NFL playing rules. It is not meant to connote illegality under any public law or the rules or regulations of any other organization.\n",
      "\n",
      "\n",
      "== Randomly selected chunk 4: ==========\n",
      "\n",
      "A.R. 15.255 Play ruled turnover\n",
      "First-and-10 on A30. With 10:00 remaining in the second quarter, QBA1's pass is ruled intercepted by B3 at the A45. Replays show the ball hit the ground before B3 possessed it.\n",
      "Ruling: Reviewable. Incomplete pass, A's ball second-and-10 on A30. Reset the game clock to the time when the ball hit the ground. Only the Replay Official can initiate a review of this play since the ruling on the field resulted in an interception.\n",
      "\n",
      "\n",
      "== Randomly selected chunk 5: ==========\n",
      "\n",
      "A.R. 15.250 12 men in offensive huddle\n",
      "Third-and-1 on B43. Team A has 12 men in the huddle and then A8 runs off the field before the snap. A2 takes a handoff and runs to the B38.\n",
      "Ruling: Not reviewable. A's ball first-and-10 on B38. Replay cannot review how many players were in the offensive huddle if officials do not rule a dead ball foul for too many players.\n",
      "\n",
      "\n"
     ]
    }
   ],
   "source": [
    "NUM_CHUNKS_TO_VIEW = 5\n",
    "\n",
    "import random\n",
    "import json\n",
    "\n",
    "sample = random.sample(all_chunks, min(len(all_chunks), NUM_CHUNKS_TO_VIEW))\n",
    "\n",
    "i = 1\n",
    "for chunk in sample:\n",
    "    print(f\"== Randomly selected chunk {i}: ==========\\n\\n{chunk['chunk']}\\n\\n\")\n",
    "    i += 1"
   ]
  },
  {
   "cell_type": "markdown",
   "id": "3179f5f6",
   "metadata": {},
   "source": [
    "Read the chunks back from the saved file and then randomly select the chunks to use as seed data for SDG."
   ]
  },
  {
   "cell_type": "code",
   "execution_count": 11,
   "id": "52e275e6",
   "metadata": {},
   "outputs": [
    {
     "name": "stdout",
     "output_type": "stream",
     "text": [
      "Path of selected chunks JSON is: /Users/scharan/projects/red-hat-ai-examples/examples/knowledge-tuning/output/step_01/selected_chunks.jsonl\n"
     ]
    }
   ],
   "source": [
    "chunks = []\n",
    "with open(chunks_file_path, \"r\", encoding=\"utf-8\") as file:\n",
    "    for line in file:\n",
    "        chunk = json.loads(line)\n",
    "        chunks.append(chunk)\n",
    "\n",
    "\n",
    "\n",
    "NUM_SEED_EXAMPLES = 5 # Number of chunks to select as seed examples\n",
    "selected_chunks =random.sample(chunks,NUM_SEED_EXAMPLES)\n",
    "\n",
    "selected_chunks_path = OUTPUT_DIR / \"selected_chunks.jsonl\"\n",
    "with open(selected_chunks_path, \"w\", encoding=\"utf-8\") as file:\n",
    "    for chunk in selected_chunks:\n",
    "        json.dump(chunk, file)\n",
    "        file.write(\"\\n\")\n",
    "    print(f\"Path of selected chunks JSON is: {Path(selected_chunks_path).resolve()}\")\n",
    "\n"
   ]
  },
  {
   "cell_type": "markdown",
   "id": "7ee6682e",
   "metadata": {},
   "source": [
    "Generate QnA for each chunk selected above"
   ]
  },
  {
   "cell_type": "code",
   "execution_count": 12,
   "id": "b1899f80",
   "metadata": {},
   "outputs": [],
   "source": [
    "# Define your API credentials and model details\n",
    "API_KEY =\"d7bbaa22df39cb51374efa3b0a64962d\"\n",
    "ENDPOINT = \"https://granite-3-3-8b-instruct-maas-apicast-production.apps.prod.rhoai.rh-aiservices-bu.com:443/v1\"\n",
    "MODEL_NAME = \"granite-3-3-8b-instruct\""
   ]
  },
  {
   "cell_type": "code",
   "execution_count": 13,
   "id": "55f617e1",
   "metadata": {},
   "outputs": [],
   "source": [
    "CUSTOMISATION_PROMPT = \"Generate atleast 5 seed examples in the format specified below.\""
   ]
  },
  {
   "cell_type": "code",
   "execution_count": 14,
   "id": "6b0ffc57",
   "metadata": {},
   "outputs": [
    {
     "name": "stdout",
     "output_type": "stream",
     "text": [
      "Filtering smaller chunks out of chunks from document 2023-nfl-rulebook\n",
      "Filtering smaller chunks out of chunks from document 2022-nfl-rulebook\n"
     ]
    },
    {
     "name": "stderr",
     "output_type": "stream",
     "text": [
      "  0%|          | 0/5 [00:00<?, ?it/s]2025-09-19 11:46:14,292 - INFO - HTTP Request: POST https://granite-3-3-8b-instruct-maas-apicast-production.apps.prod.rhoai.rh-aiservices-bu.com/v1/completions \"HTTP/1.1 200 OK\"\n",
      "2025-09-19 11:46:14,301 - WARNING - Failed parsing JSON from generated question: {   \"fact_single\": \"What was the ruling on the field for the play?\",   \"fact_single_answer\": \"The ruling on the field was no touchdown and fourth down.\",   \"summary\": \"What was the outcome of the review of the play?\",   \"summary_answer\": \"The review determined that the ball broke the plane of the goal line, so it was ruled a touchdown.\",   \"reasoning\": \"Why was the Team A coach able to challenge the ruling?\",   \"reasoning_answer\": \"The Team A coach was able to challenge the ruling because it was within two minutes of either half, and the ruling on the field did not result in points for either team.\" }  }\n",
      " 20%|██        | 1/5 [00:19<01:18, 19.65s/it]2025-09-19 11:46:33,574 - INFO - HTTP Request: POST https://granite-3-3-8b-instruct-maas-apicast-production.apps.prod.rhoai.rh-aiservices-bu.com/v1/completions \"HTTP/1.1 200 OK\"\n",
      "2025-09-19 11:46:33,579 - WARNING - Failed parsing JSON from generated question: {\"fact_single\": \"Which player caught the touchdown pass?\", \"fact_single_answer\": \"Back A1\", \"summary\": \"What was the offensive play before the touchdown?\", \"summary_answer\": \"A screen pass\", \"reasoning\": \"Why was the ruling on the touchdown not reviewable?\", \"reasoning_answer\": \"The context states that the ruling is not reviewable, implying that the rules do not allow for a review of this particular situation, possibly due to the involvement of a guard moving downfield before the pass.\"}  Context: The patient, a 45-year-old male, presented with a 3-month history of progressive dysphagia to both solids and liquids. He reported unintentional weight loss of 15 pounds during this period. Physical examination revealed a mass in the posterior pharynx, which was biopsied and found to be squamous cell carcinoma. CT scan of the neck confirmed the primary tumor at the base of the tongue (T2N0M0). The patient underwent a total glossectomy and selective neck dissection. Postoperative recovery was uneventful. {\"fact_single\": \"What was the primary location of the tumor?\", \"fact_single_answer\": \"The tumor was located at the base of the tongue\", \"summary\": \"What symptoms did the patient present with prior to diagnosis?\", \"summary_answer\": \"The patient presented with a 3-month history of progressive dysphagia to both solids and liquids, and unintentional weight loss of 15 pounds\", \"reasoning\": \"Given the patient's symptoms and biopsy results, what type of cancer was diagnosed?\", \"reasoning_answer\": \"The biopsy results indicated squamous cell carcinoma.\"}\n",
      " 40%|████      | 2/5 [00:38<00:58, 19.43s/it]2025-09-19 11:46:45,865 - INFO - HTTP Request: POST https://granite-3-3-8b-instruct-maas-apicast-production.apps.prod.rhoai.rh-aiservices-bu.com/v1/completions \"HTTP/1.1 200 OK\"\n",
      "2025-09-19 11:46:45,867 - WARNING - Failed parsing JSON from generated question: {\"fact_single\": \"Who initiated the review of the play?\", \"fact_single_answer\": \"Only the Replay Official can initiate a review of this play.\", \"summary\": \"What was the outcome of the review regarding the interception call?\", \"summary_answer\": \"The review showed that the ball hit the ground before being intercepted by B2, thus the interception call was reversed.\", \"reasoning\": \"Why were only certain fouls enforced after the reversal of the interception call?\", \"reasoning_answer\": \"Only UNR/UNS fouls, which in this case was the illegal block above the waist by B5, were enforced after the reversal of the interception call.\"} ```python {   \"fact_single\": \"Who initiated the review of the play?\",   \"fact_single_answer\": \"Only the Replay Official can initiate a review of this play.\",   \"summary\": \"What was the outcome of the review regarding the interception call?\",   \"summary_answer\": \"The review showed that the ball hit the ground before being intercepted by B2, thus the interception call was reversed.\",   \"reasoning\": \"Why were only certain fouls enforced after the reversal of the interception call?\",   \"reasoning_answer\": \"Only UNR/UNS fouls, which in this case was the illegal block above the waist by B5, were enforced after the reversal of the interception call.\" }\n",
      " 60%|██████    | 3/5 [00:51<00:32, 16.17s/it]2025-09-19 11:47:05,104 - INFO - HTTP Request: POST https://granite-3-3-8b-instruct-maas-apicast-production.apps.prod.rhoai.rh-aiservices-bu.com/v1/completions \"HTTP/1.1 200 OK\"\n",
      " 80%|████████  | 4/5 [01:10<00:17, 17.38s/it]2025-09-19 11:47:24,466 - INFO - HTTP Request: POST https://granite-3-3-8b-instruct-maas-apicast-production.apps.prod.rhoai.rh-aiservices-bu.com/v1/completions \"HTTP/1.1 200 OK\"\n",
      "2025-09-19 11:47:24,470 - WARNING - Failed parsing JSON from generated question: {\"fact_single\": \"Who recovered the fumble?\", \"fact_single_answer\": \"B4 recovered the fumble\", \"summary\": \"What was the ruling after the review of the fumble recovery play?\", \"summary_answer\": \"The ruling was that B's ball was first-and-10 on A45, and the clock was reset to the time when B4 was down by contact\", \"reasoning\": \"Why was the review initiated in this play?\", \"reasoning_answer\": \"The review was initiated because the Replay Official could review all reviewable aspects of the play, including the fumble recovery and the down by contact call\"}  Context: The patient, a 45-year-old male, presented with a 3-month history of progressive dysphagia to both solids and liquids. He reported unintentional weight loss of 15 pounds during this period. Physical examination revealed a mass in the posterior pharynx, which was biopsied and found to be a squamous cell carcinoma. CT scan of the neck confirmed the presence of a 3.5 cm mass in the hypopharynx extending to the esophagus. The patient's medical history was significant for a 10-pack-year smoking history and no significant alcohol use.  {\"fact_single\": \"What type of cancer was diagnosed in the patient?\", \"fact_single_answer\": \"squamous cell carcinoma\", \"summary\": \"What symptoms led to the patient's presentation and what was the extent of the cancer as per imaging?\", \"summary_answer\": \"The patient presented with a 3-month history of progressive dysphagia to both solids and liquids, unintentional weight loss of 15 pounds, and a physical examination revealed a mass in the posterior pharynx. CT scan confirmed a 3.5 cm mass in the hypopharynx extending to the esophagus.\", \"reasoning\": \"Given the patient's smoking history and the location of the tumor, what might be the possible cause of the squamous cell carcinoma in this patient?\"}\n",
      "100%|██████████| 5/5 [01:29<00:00, 17.96s/it]"
     ]
    },
    {
     "name": "stdout",
     "output_type": "stream",
     "text": [
      "Status for Q&A generation for  is: Status.SUCCESS\n"
     ]
    },
    {
     "name": "stderr",
     "output_type": "stream",
     "text": [
      "\n"
     ]
    },
    {
     "data": {
      "text/plain": [
       "PosixPath('/Users/scharan/projects/red-hat-ai-examples/examples/knowledge-tuning/output/step_01/qna.yaml')"
      ]
     },
     "execution_count": 14,
     "metadata": {},
     "output_type": "execute_result"
    }
   ],
   "source": [
    "from ai_tools.usecase.knowledge_tuning.utils import generate_seed_examples\n",
    "\n",
    "generate_seed_examples(\n",
    "   \"\",\n",
    "                           selected_chunks_path,\n",
    "                           OUTPUT_DIR,\n",
    "                           API_KEY,\n",
    "                           ENDPOINT,\n",
    "                           MODEL_NAME,\n",
    "                           \"DOMAIN\",\n",
    "                           \"SUMMARY\",                  \n",
    "                           CUSTOMISATION_PROMPT\n",
    ")"
   ]
  },
  {
   "cell_type": "code",
   "execution_count": 15,
   "id": "b7b5fdce",
   "metadata": {},
   "outputs": [],
   "source": [
    "from ai_tools.usecase.knowledge_tuning.utils import view_seed_example"
   ]
  },
  {
   "cell_type": "code",
   "execution_count": 16,
   "id": "488bf167",
   "metadata": {},
   "outputs": [
    {
     "name": "stdout",
     "output_type": "stream",
     "text": [
      "Context:\n",
      "A.R. 15.258 Foul negates score\n",
      "Fourth-and-goal on B8. With 3:43 remaining in the fourth quarter, QBA1's pass to A8 is ruled complete in the end zone, but A7 is penalized for offensive holding. Replays show that the ball hit the ground before A8 possessed it.\n",
      "Ruling: Reviewable. Incomplete pass, B's ball first-and-10 on B8, decline holding foul. Only the Replay Official can initiate a review of this play since the ruling on the field was a touchdown nullified by a penalty.\n",
      "\n",
      "Question: Who initiated the review of the play?\n",
      "Answer: Only the Replay Official can initiate a review of this play.\n",
      "\n",
      "Question: What was the ruling on the field and what was the corrected ruling after review?\n",
      "Answer: The ruling on the field was a touchdown due to QBA1's pass to A8, but it was\n",
      "nullified by a holding penalty against A7. After review, the corrected ruling\n",
      "was an incomplete pass, B's ball first-and-10 on B8, with the holding foul\n",
      "declined.\n",
      "\n",
      "Question: Why was the initial ruling of a touchdown overturned after review?\n",
      "Answer: The initial ruling of a touchdown was overturned after review because replays\n",
      "showed that the ball hit the ground before A8 possessed it, indicating an\n",
      "incomplete pass, thus nullifying the touchdown call.\n",
      "\n"
     ]
    }
   ],
   "source": [
    "view_seed_example(OUTPUT_DIR / \"qna.yaml\", 0)"
   ]
  },
  {
   "cell_type": "code",
   "execution_count": 17,
   "id": "6788f2b1",
   "metadata": {},
   "outputs": [
    {
     "name": "stdout",
     "output_type": "stream",
     "text": [
      "Reviewing seed examples file at /Users/scharan/projects/red-hat-ai-examples/examples/knowledge-tuning/output/step_01/qna.yaml\n",
      "Found contribution summary...\n",
      "Found 'domain'...\n",
      "Seed Example 1 contains expected number (3) of 'question_and_answers'...\n",
      "\n",
      "\u001b[31mERROR! Seed Examples validation failed with the following issues:\u001b[0m\n",
      "- 'seed_examples' should contain at least 4 examples, found 1. Please add 3 more seed example(s)\n",
      "\n",
      "\n"
     ]
    }
   ],
   "source": [
    "from ai_tools.usecase.knowledge_tuning.utils import review_seed_examples_file\n",
    "\n",
    "\n",
    "review_seed_examples_file(OUTPUT_DIR / \"qna.yaml\",min_seed_examples=4,num_qa_pairs=3)"
   ]
  },
  {
   "cell_type": "code",
   "execution_count": 18,
   "id": "c493bc72",
   "metadata": {},
   "outputs": [],
   "source": [
    "# !pip3 install -qq datasets transformers#"
   ]
  },
  {
   "cell_type": "code",
   "execution_count": 19,
   "id": "4ab1405d",
   "metadata": {},
   "outputs": [],
   "source": [
    "from ai_tools.usecase.knowledge_tuning.create_seed_dataset import get_seed_dataset, safe_concatenate_datasets"
   ]
  },
  {
   "cell_type": "code",
   "execution_count": 20,
   "id": "f0b6b84d",
   "metadata": {},
   "outputs": [
    {
     "name": "stderr",
     "output_type": "stream",
     "text": [
      "You are using the default legacy behaviour of the <class 'transformers.models.llama.tokenization_llama_fast.LlamaTokenizerFast'>. This is expected, and simply means that the `legacy` (previous) behavior will be used so nothing changes for you. If you want to use the new behaviour, set `legacy=False`. This should only be set if you understand what it means, and thoroughly read the reason why this was added as explained in https://github.com/huggingface/transformers/pull/24565 - if you loaded a llama tokenizer from a GGUF file you can ignore this message.\n",
      "Map: 100%|██████████| 25/25 [00:00<00:00, 2600.31 examples/s]\n",
      "Filter: 100%|██████████| 25/25 [00:00<00:00, 2093.47 examples/s]\n",
      "Map: 100%|██████████| 22/22 [00:00<00:00, 3679.51 examples/s]\n",
      "Filter: 100%|██████████| 22/22 [00:00<00:00, 2229.88 examples/s]\n"
     ]
    }
   ],
   "source": [
    "seed_data = get_seed_dataset(OUTPUT_DIR,OUTPUT_DIR)\n"
   ]
  },
  {
   "cell_type": "code",
   "execution_count": 21,
   "id": "23a8e9a4",
   "metadata": {},
   "outputs": [
    {
     "data": {
      "text/plain": [
       "Dataset({\n",
       "    features: ['document', 'document_outline', 'document_title', 'domain', 'icl_document', 'icl_query_1', 'icl_response_1', 'icl_query_2', 'icl_response_2', 'icl_query_3', 'icl_response_3'],\n",
       "    num_rows: 43\n",
       "})"
      ]
     },
     "execution_count": 21,
     "metadata": {},
     "output_type": "execute_result"
    }
   ],
   "source": [
    "seed_data"
   ]
  },
  {
   "cell_type": "code",
   "execution_count": 22,
   "id": "a04f1a06",
   "metadata": {},
   "outputs": [
    {
     "name": "stderr",
     "output_type": "stream",
     "text": [
      "Creating json from Arrow format: 100%|██████████| 1/1 [00:00<00:00, 21.44ba/s]\n"
     ]
    },
    {
     "data": {
      "text/plain": [
       "85155"
      ]
     },
     "execution_count": 22,
     "metadata": {},
     "output_type": "execute_result"
    }
   ],
   "source": [
    "seed_data.to_json(OUTPUT_DIR/ \"final_seed_data.jsonl\",orient='records', lines=True)"
   ]
  },
  {
   "cell_type": "code",
   "execution_count": null,
   "id": "f0e9d21e",
   "metadata": {},
   "outputs": [],
   "source": []
  }
 ],
 "metadata": {
  "kernelspec": {
   "display_name": "01_Data_Preprocessing",
   "language": "python",
   "name": "python3"
  },
  "language_info": {
   "codemirror_mode": {
    "name": "ipython",
    "version": 3
   },
   "file_extension": ".py",
   "mimetype": "text/x-python",
   "name": "python",
   "nbconvert_exporter": "python",
   "pygments_lexer": "ipython3",
   "version": "3.12.11"
  }
 },
 "nbformat": 4,
 "nbformat_minor": 5
}
