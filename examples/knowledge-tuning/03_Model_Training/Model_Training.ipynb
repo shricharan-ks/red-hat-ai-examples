{
 "cells": [
  {
   "cell_type": "code",
   "execution_count": 2,
   "id": "1289e284",
   "metadata": {},
   "outputs": [
    {
     "name": "stderr",
     "output_type": "stream",
     "text": [
      "/Users/scharan/projects/red-hat-ai-examples/.venv/lib/python3.12/site-packages/tqdm/auto.py:21: TqdmWarning: IProgress not found. Please update jupyter and ipywidgets. See https://ipywidgets.readthedocs.io/en/stable/user_install.html\n",
      "  from .autonotebook import tqdm as notebook_tqdm\n"
     ]
    }
   ],
   "source": [
    "from pathlib import Path\n",
    "from transformers import AutoModel, AutoTokenizer\n",
    "from datetime import datetime\n",
    "import os"
   ]
  },
  {
   "cell_type": "code",
   "execution_count": null,
   "id": "6970dad9",
   "metadata": {},
   "outputs": [],
   "source": [
    "WORKSPACE = Path.cwd().parent\n",
    "\n",
    "OUTPUT_DIR = WORKSPACE / \"output\" / \"step_03\"\n",
    "\n",
    "BASE_MODEL_NAME =  \"microsoft/Phi-4-mini-instruct\" #\"meta-llama/Llama-3.1-8B-Instruct\"\n",
    "\n",
    "BASE_MODEL_PATH = OUTPUT_DIR / \"base_model\" / BASE_MODEL_NAME\n",
    "\n",
    "import os \n",
    "\n",
    "hf_token= \"\"\n",
    "\n"
   ]
  },
  {
   "cell_type": "code",
   "execution_count": 4,
   "id": "82f043b6",
   "metadata": {},
   "outputs": [],
   "source": [
    "from huggingface_hub import login\n",
    "login(token=hf_token)"
   ]
  },
  {
   "cell_type": "code",
   "execution_count": null,
   "id": "1aa16b76",
   "metadata": {},
   "outputs": [
    {
     "name": "stdout",
     "output_type": "stream",
     "text": [
      "Loading model microsoft/Phi-4-mini-instruct\n"
     ]
    },
    {
     "name": "stderr",
     "output_type": "stream",
     "text": [
      "Fetching 2 files: 100%|██████████| 2/2 [02:39<00:00, 79.81s/it] \n",
      "Loading checkpoint shards: 100%|██████████| 2/2 [00:34<00:00, 17.02s/it]\n"
     ]
    }
   ],
   "source": [
    "from transformers import AutoTokenizer, AutoModelForCausalLM\n",
    "\n",
    "# Save the model\n",
    "print(f\"Loading model {BASE_MODEL_NAME}\")\n",
    "model = AutoModelForCausalLM.from_pretrained(BASE_MODEL_NAME)\n",
    "model.save_pretrained(OUTPUT_DIR / \"base_model\" / BASE_MODEL_NAME)\n",
    "print(f\"Model saved to {OUTPUT_DIR / 'base_model' / BASE_MODEL_NAME}\")\n",
    "\n",
    "\n",
    "# Save the tokenizer\n",
    "print(f\"Loading tokenizer {BASE_MODEL_NAME}\")\n",
    "tokenizer = AutoTokenizer.from_pretrained(BASE_MODEL_NAME)\n",
    "tokenizer.save_pretrained(OUTPUT_DIR / \"base_model\" / BASE_MODEL_NAME)\n",
    "print(f\"Tokenizer saved to {OUTPUT_DIR / 'base_model' / BASE_MODEL_NAME}\")"
   ]
  },
  {
   "cell_type": "code",
   "execution_count": null,
   "id": "78c61ab5",
   "metadata": {},
   "outputs": [],
   "source": [
    "# =============================================================================\n",
    "# MODEL AND DATA CONFIGURATION\n",
    "# =============================================================================\n",
    "\n",
    "# Base model configuration\n",
    "BASE_MODEL_PATH = \"meta-llama/Llama-3.1-8B-Instruct\"  # Or your preferred base model\n",
    "# BASE_MODEL_PATH = \"Qwen/Qwen2.5-7B-Instruct\"\n",
    "# BASE_MODEL_PATH = \"microsoft/Phi-4-mini-instruct\"\n",
    "\n",
    "# Data paths for each phase\n",
    "PHASE07_DATA_PATH = \"/path/to/your/phase07_knowledge_data.jsonl\"  # Knowledge data\n",
    "PHASE10_DATA_PATH = \"/path/to/your/phase10_skills_data.jsonl\"     # Skills data ONLY (no replay needed!)\n",
    "\n",
    "# Output configuration\n",
    "CHECKPOINT_BASE_DIR = \"/path/to/checkpoints\"\n",
    "EXPERIMENT_PREFIX = \"osft_multiphase_experiment\"\n",
    "\n",
    "# Create timestamped experiment directory\n",
    "timestamp = datetime.now().strftime(\"%Y%m%d_%H%M%S\")\n",
    "experiment_name = f\"{EXPERIMENT_PREFIX}_{timestamp}\"\n",
    "\n",
    "print(\"📋 OSFT Multi-Phase Configuration\")\n",
    "print(\"=\" * 50)\n",
    "print(f\"Base Model: {BASE_MODEL_PATH}\")\n",
    "print(f\"Phase07 Data: {PHASE07_DATA_PATH}\")\n",
    "print(f\"Phase10 Data: {PHASE10_DATA_PATH}\")\n",
    "print(f\"Output Directory: {CHECKPOINT_BASE_DIR}/{experiment_name}\")\n",
    "print()\n",
    "print(\"✨ Key Difference from Traditional LAB SFT:\")\n",
    "print(\"  Phase10 only needs skills data - no replay buffers!\")\n",
    "print(\"  OSFT preserves Phase07 knowledge automatically.\")\n",
    "print(\"  This workflow replaces complex LAB multi-phase training.\")"
   ]
  }
 ],
 "metadata": {
  "kernelspec": {
   "display_name": "test-utils",
   "language": "python",
   "name": "python3"
  },
  "language_info": {
   "codemirror_mode": {
    "name": "ipython",
    "version": 3
   },
   "file_extension": ".py",
   "mimetype": "text/x-python",
   "name": "python",
   "nbconvert_exporter": "python",
   "pygments_lexer": "ipython3",
   "version": "3.12.11"
  }
 },
 "nbformat": 4,
 "nbformat_minor": 5
}
