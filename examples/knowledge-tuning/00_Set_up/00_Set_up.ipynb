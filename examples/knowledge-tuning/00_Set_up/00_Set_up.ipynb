{
 "cells": [
  {
   "cell_type": "markdown",
   "id": "bb366371",
   "metadata": {},
   "source": [
    "# Set up\n",
    "\n",
    "This example Git repository includes the source code for an `ai-tools` wheel (a pre-built package file for Python). The `ai-tools` wheel includes utility functions that simplify the code in each notebook, allowing you to focus on the notebook's topic.\n",
    "\n",
    "Run the commands in this notebook to build the `ai-tools` wheel.\n",
    "\n",
    "> Note: For a later release, the plan is to build this wheel outside of the example in the future."
   ]
  },
  {
   "cell_type": "markdown",
   "id": "75e1331f",
   "metadata": {},
   "source": [
    "Install the `build` package so that you can build the wheel:"
   ]
  },
  {
   "cell_type": "code",
   "execution_count": null,
   "id": "7b7f4bab",
   "metadata": {},
   "outputs": [],
   "source": [
    "%pip install build"
   ]
  },
  {
   "cell_type": "markdown",
   "id": "23ff16bf",
   "metadata": {},
   "source": [
    "Build the `ai-tools` wheel from the source files:"
   ]
  },
  {
   "cell_type": "code",
   "execution_count": null,
   "id": "142f169c",
   "metadata": {},
   "outputs": [],
   "source": [
    "!python -m build ../.."
   ]
  },
  {
   "cell_type": "markdown",
   "id": "2807c0f8",
   "metadata": {},
   "source": [
    "Install the newly-built `ai-tools` wheel:"
   ]
  },
  {
   "cell_type": "code",
   "execution_count": null,
   "id": "da3eeea8",
   "metadata": {},
   "outputs": [],
   "source": [
    "%pip install ../../dist/ai_tools-0.1.0-py3-none-any.whl"
   ]
  },
  {
   "cell_type": "markdown",
   "id": "2e5d43b8",
   "metadata": {},
   "source": [
    "## Next Step\n",
    "\n",
    "[Data Preprocessing](./01_Data_Preprocessing/README.md)"
   ]
  }
 ],
 "metadata": {
  "language_info": {
   "name": "python"
  }
 },
 "nbformat": 4,
 "nbformat_minor": 5
}
