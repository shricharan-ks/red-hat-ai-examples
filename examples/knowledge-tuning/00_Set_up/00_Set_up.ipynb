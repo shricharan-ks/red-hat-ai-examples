{
 "cells": [
  {
   "cell_type": "markdown",
   "id": "bb366371",
   "metadata": {},
   "source": [
    "# Setup\n",
    "\n",
    "The source for an `ai-tools` package is included in this example repository. The utility functions within `ai-tools` help simplify the code in each notebook, allowing us to focus on the notebook's topic.\n",
    "\n",
    "> Note: Is is recommended that this wheel is built outside of the example in the future."
   ]
  },
  {
   "cell_type": "markdown",
   "id": "75e1331f",
   "metadata": {},
   "source": [
    "## Install Dependencies\n",
    "\n",
    "The `build` package is needed to build the wheel."
   ]
  },
  {
   "cell_type": "code",
   "execution_count": null,
   "id": "7b7f4bab",
   "metadata": {},
   "outputs": [],
   "source": [
    "%pip install build"
   ]
  },
  {
   "cell_type": "markdown",
   "id": "23ff16bf",
   "metadata": {},
   "source": [
    "## Build\n",
    "\n",
    "Build the `ai-tools` wheel."
   ]
  },
  {
   "cell_type": "code",
   "execution_count": null,
   "id": "142f169c",
   "metadata": {},
   "outputs": [],
   "source": [
    "!python -m build ../.."
   ]
  },
  {
   "cell_type": "markdown",
   "id": "2807c0f8",
   "metadata": {},
   "source": [
    "## Install `ai-tools`\n",
    "\n",
    "Install the newly built `ai-tools` wheel and confirm."
   ]
  },
  {
   "cell_type": "code",
   "execution_count": null,
   "id": "da3eeea8",
   "metadata": {},
   "outputs": [],
   "source": [
    "%pip install ../../dist/ai_tools-0.1.0-py3-none-any.whl"
   ]
  }
 ],
 "metadata": {
  "language_info": {
   "name": "python"
  }
 },
 "nbformat": 4,
 "nbformat_minor": 5
}
